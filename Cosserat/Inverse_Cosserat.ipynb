{
 "cells": [
  {
   "cell_type": "markdown",
   "metadata": {},
   "source": [
    "# Inverse Cosserat Model"
   ]
  },
  {
   "cell_type": "code",
   "execution_count": null,
   "metadata": {},
   "outputs": [],
   "source": [
    "# Setup\n",
    "import numpy as np"
   ]
  },
  {
   "cell_type": "markdown",
   "metadata": {},
   "source": [
    "### Defining Constants"
   ]
  },
  {
   "cell_type": "code",
   "execution_count": null,
   "metadata": {},
   "outputs": [],
   "source": [
    "kappa = \n",
    "theta_b = \n",
    "\n",
    "r = \n",
    "\n",
    "Ixx = 0.25*np.pi*(r^4)\n",
    "Izz = 2*Ixx\n",
    "\n",
    "J = np.diag([Ixx,Ixx,Izz])\n",
    "\n",
    "G = \n",
    "E = \n",
    "A = np.pi*r^2\n",
    "\n",
    "u = np.zeros((3,1))\n",
    "u[0] = kappa*np.cos(theta_b)\n",
    "u[1] = kappa*np.sin(theta_b)\n",
    "\n",
    "Kv = np.diag([G*A,G*A,E*A])\n",
    "Ku = np.diag([E,E,G])*J"
   ]
  },
  {
   "cell_type": "markdown",
   "metadata": {},
   "source": [
    "### Equilibrium Equations"
   ]
  },
  {
   "cell_type": "code",
   "execution_count": null,
   "metadata": {},
   "outputs": [],
   "source": [
    "dnds = -uhat*n - f;\n",
    "dmds = -uhat*m - vhat*n - l;"
   ]
  },
  {
   "cell_type": "markdown",
   "metadata": {},
   "source": [
    "### Constitutive Equations"
   ]
  },
  {
   "cell_type": "code",
   "execution_count": null,
   "metadata": {},
   "outputs": [],
   "source": [
    "v = np.linalg.inv(Kv)*n + "
   ]
  }
 ],
 "metadata": {
  "language_info": {
   "name": "python"
  },
  "orig_nbformat": 4
 },
 "nbformat": 4,
 "nbformat_minor": 2
}
