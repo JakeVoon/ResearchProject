{
 "cells": [
  {
   "cell_type": "markdown",
   "metadata": {},
   "source": [
    "# Inverse Cosserat Model"
   ]
  },
  {
   "cell_type": "code",
   "execution_count": 22,
   "metadata": {},
   "outputs": [
    {
     "name": "stdout",
     "output_type": "stream",
     "text": [
      "[[0 -3.0 2.0]\n",
      " [3.0 0 -1.0]\n",
      " [-2.0 1.0 0]]\n"
     ]
    }
   ],
   "source": [
    "# Setup\n",
    "import numpy as np\n",
    "import json\n",
    "import matplotlib.pyplot as plt\n",
    "\n",
    "# Importing data\n",
    "with open(\"2.5N_run5.json\") as json_file:\n",
    "    data = json.load(json_file)\n",
    "\n",
    "data = data[\"data\"]\n",
    "\n",
    "curvatures = data[0]['curvatures'][10:18]\n",
    "\n",
    "# Functions\n",
    "def skew_symmetric(vector):\n",
    "\n",
    "    skew_matrix = np.zeros((3,3))\n",
    "\n",
    "    skew_matrix = np.array([[0, -vector[2][0], vector[1][0]], \n",
    "                            [vector[2][0], 0, -vector[0][0]],\n",
    "                            [-vector[1][0], vector[0][0], 0]],dtype='object')\n",
    "    return skew_matrix"
   ]
  },
  {
   "cell_type": "markdown",
   "metadata": {},
   "source": [
    "### Defining Constants"
   ]
  },
  {
   "cell_type": "code",
   "execution_count": null,
   "metadata": {},
   "outputs": [],
   "source": [
    "kappa = curvatures\n",
    "theta_b = \n",
    "\n",
    "r = \n",
    "\n",
    "Ixx = 0.25*np.pi*(r^4)\n",
    "Iyy = Ixx\n",
    "Izz = 2*Ixx\n",
    "\n",
    "J = np.diag([Ixx,Iyy,Izz])\n",
    "\n",
    "G = \n",
    "E = \n",
    "A = np.pi*r^2\n",
    "\n",
    "# Shear and axial stiffness matrix\n",
    "Kv = np.diag([G*A,G*A,E*A])\n",
    "# Bending and torsional stiffness matix\n",
    "Ku = np.diag([E,E,G])*J\n",
    "\n",
    "# From Assumptions\n",
    "v_0 = [[0],[0],[1]]\n",
    "\n",
    "u = np.zeros((3,1))\n",
    "u[0] = kappa*np.cos(theta_b)\n",
    "u[1] = kappa*np.sin(theta_b)\n",
    "\n",
    "uhat = skew_symmetric(u)"
   ]
  },
  {
   "cell_type": "markdown",
   "metadata": {},
   "source": [
    "### Equilibrium Equations"
   ]
  },
  {
   "cell_type": "code",
   "execution_count": null,
   "metadata": {},
   "outputs": [],
   "source": [
    "dnds = -uhat*n - f;\n",
    "dmds = -uhat*m - vhat*n - l;"
   ]
  },
  {
   "cell_type": "markdown",
   "metadata": {},
   "source": [
    "### Constitutive Equations"
   ]
  },
  {
   "cell_type": "code",
   "execution_count": null,
   "metadata": {},
   "outputs": [],
   "source": [
    "v = np.linalg.inv(Kv)*n + v_0\n",
    "u = np.linalg.inv(Ku)*m + u_0"
   ]
  }
 ],
 "metadata": {
  "interpreter": {
   "hash": "31f2aee4e71d21fbe5cf8b01ff0e069b9275f58929596ceb00d14d90e3e16cd6"
  },
  "kernelspec": {
   "display_name": "Python 3.6.9 64-bit",
   "language": "python",
   "name": "python3"
  },
  "language_info": {
   "codemirror_mode": {
    "name": "ipython",
    "version": 3
   },
   "file_extension": ".py",
   "mimetype": "text/x-python",
   "name": "python",
   "nbconvert_exporter": "python",
   "pygments_lexer": "ipython3",
   "version": "3.6.9"
  },
  "orig_nbformat": 4
 },
 "nbformat": 4,
 "nbformat_minor": 2
}
