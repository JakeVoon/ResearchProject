{
 "cells": [
  {
   "cell_type": "markdown",
   "metadata": {},
   "source": [
    "The json file consists of a dict object with two keys:\n",
    "1. 'experiment_parameters' : dictionary\n",
    "2. 'data' : list where each element is a dictionary\n",
    "\n",
    "\n",
    "#### 'experiment_parameters' <br>\n",
    "experiment_title : str <br>\n",
    "iteration : int <br>\n",
    "date : str <br>\n",
    "experiment_start_time : str <br>\n",
    "rail_material : str <br>\n",
    "phantom_material : str <br>\n",
    "compared_curvature : int <br>\n",
    "first_grating_idx : int <br>\n",
    "last_grating_idx : int <br>\n",
    "wav0 : list, float <br>\n",
    "local_time : str <br>\n",
    "\n",
    "#### 'data': list, each element is a dict, keys are listed as follows: <br>\n",
    "elapsed_time : float <br>\n",
    "line_number : int <br>\n",
    "wav_data : list, float <br>\n",
    "curvatures : list, float <br>\n",
    "positions_2d : nested list, float <br>\n",
    "positions_3d : nested list, float <br>"
   ]
  },
  {
   "cell_type": "markdown",
   "metadata": {},
   "source": [
    "# Loading in json file"
   ]
  },
  {
   "cell_type": "code",
   "execution_count": 48,
   "metadata": {},
   "outputs": [
    {
     "data": {
      "image/png": "[encoded data removed]",
      "text/plain": [
       "<Figure size 432x288 with 1 Axes>"
      ]
     },
     "metadata": {
      "needs_background": "light"
     },
     "output_type": "display_data"
    }
   ],
   "source": [
    "import json\n",
    "import numpy as np\n",
    "import matplotlib.pyplot as plt\n",
    "from simple_segment import segment\n",
    "\n",
    "folder1 = \"exp1-ground_truth\"\n",
    "folder2 = \"/bare_bare_\"\n",
    "string = [\"30\",\"50\",\"70\",\"90\",\"110\"]\n",
    "\n",
    "for s in string:\n",
    "    \n",
    "    file = folder1 + folder2 + s + folder2 + s + \"_iter1.json\"\n",
    "\n",
    "    with open(file, \"r\") as json_file:\n",
    "        barebare = json.load(json_file)\n",
    "\n",
    "    exp_params = barebare[\"experiment_parameters\"]\n",
    "\n",
    "    data = barebare[\"data\"]\n",
    "\n",
    "    # print('experiment params keys: ', exp_params.keys())\n",
    "    # print()\n",
    "    # print('data keys: ', data[0].keys())\n",
    "    # print()\n",
    "    # print('number of points: ', len(data))\n",
    "\n",
    "    curvatures = data[0]['curvatures']\n",
    "\n",
    "    plt.plot(curvatures)\n",
    "    plt.ylim((-0.2,0.75));"
   ]
  },
  {
   "cell_type": "markdown",
   "metadata": {},
   "source": [
    "# Piecewise Polynomial-Based Segmentation of Curvature"
   ]
  },
  {
   "cell_type": "code",
   "execution_count": 32,
   "metadata": {},
   "outputs": [
    {
     "name": "stdout",
     "output_type": "stream",
     "text": [
      "27\n"
     ]
    },
    {
     "data": {
      "image/png": "[encoded data removed]",
      "text/plain": [
       "<Figure size 432x288 with 1 Axes>"
      ]
     },
     "metadata": {
      "needs_background": "light"
     },
     "output_type": "display_data"
    }
   ],
   "source": [
    "curvatures = data[0]['curvatures']\n",
    "\n",
    "\n",
    "plt.plot(curvatures)\n",
    "plt.ylim((-1,1))\n",
    "\n",
    "print(len(data[10]['positions_3d']))"
   ]
  },
  {
   "cell_type": "code",
   "execution_count": null,
   "metadata": {},
   "outputs": [],
   "source": [
    "def curv_err_thres(tolerance,num_of_segments_max,curvatures):\n",
    "    \"\"\"\n",
    "    Inputs:\n",
    "    tolerance (float) : predefined error to set as threshold\n",
    "    num_of_segments (int) : max number of segments to iterate over\n",
    "    curvatures (list) : list of curvatures\n",
    "\n",
    "    Returns:\n",
    "    force_locations (list) : force locations\n",
    "    segments () : sequence of interconnected linear curvature segments\n",
    "    \"\"\"\n",
    "\n",
    "    break_points = []\n",
    "    segments_matrix = []\n",
    "    error_vector = []\n",
    "\n",
    "    for i in range(num_of_segments):\n",
    "\n",
    "    return force_locations, segments\n",
    "\n",
    "def force_mag_thres(min_force,num_of_segments,curvatures):\n",
    "    \"\"\"\n",
    "    Inputs:\n",
    "    min_force (float) : User defined minimum detectable force\n",
    "    num_of_segments (int) : number of segments\n",
    "    curvatures (list) : list of curvatures\n",
    "\n",
    "    Returns:\n",
    "    force_locations (list) : force locations\n",
    "    segments () : sequence of interconnected linear curvature segments\n",
    "    \"\"\"\n",
    "\n",
    "    force = 0\n",
    "\n",
    "    while force < min_force:\n",
    "        \n",
    "    return force_locations, segments"
   ]
  },
  {
   "cell_type": "markdown",
   "metadata": {},
   "source": [
    "# Model-based Estimation"
   ]
  },
  {
   "cell_type": "code",
   "execution_count": null,
   "metadata": {},
   "outputs": [],
   "source": []
  }
 ],
 "metadata": {
  "interpreter": {
   "hash": "1f8d80d535cfd832283e4e3a1095d2ce45fe6627336684f2622a1965babb2f1c"
  },
  "kernelspec": {
   "display_name": "Python 3.9.11 64-bit (windows store)",
   "language": "python",
   "name": "python3"
  },
  "language_info": {
   "codemirror_mode": {
    "name": "ipython",
    "version": 3
   },
   "file_extension": ".py",
   "mimetype": "text/x-python",
   "name": "python",
   "nbconvert_exporter": "python",
   "pygments_lexer": "ipython3",
   "version": "3.7.11"
  },
  "orig_nbformat": 4
 },
 "nbformat": 4,
 "nbformat_minor": 2
}
