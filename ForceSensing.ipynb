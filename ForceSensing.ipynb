{
 "cells": [
  {
   "cell_type": "markdown",
   "metadata": {},
   "source": [
    "The json file consists of a dict object with two keys:\n",
    "1. 'experiment_parameters' : dictionary\n",
    "2. 'data' : list where each element is a dictionary\n",
    "\n",
    "\n",
    "'experiment_parameters' <br>\n",
    "experiment_title : str <br>\n",
    "iteration : int <br>\n",
    "date : str <br>\n",
    "experiment_start_time : str <br>\n",
    "rail_material : str <br>\n",
    "phantom_material : str <br>\n",
    "compared_curvature : int <br>\n",
    "first_grating_idx : int <br>\n",
    "last_grating_idx : int <br>\n",
    "wav0 : list, float <br>\n",
    "local_time : str <br>\n",
    "\n",
    "'data': list, each element is a dict, keys are listed as follows: <br>\n",
    "elapsed_time : float <br>\n",
    "line_number : int <br>\n",
    "wav_data : list, float <br>\n",
    "curvatures : list, float <br>\n",
    "positions_2d : nested list, float <br>\n",
    "positions_3d : nested list, float <br>"
   ]
  }
 ],
 "metadata": {
  "interpreter": {
   "hash": "1f8d80d535cfd832283e4e3a1095d2ce45fe6627336684f2622a1965babb2f1c"
  },
  "kernelspec": {
   "display_name": "Python 3.9.11 64-bit (windows store)",
   "language": "python",
   "name": "python3"
  },
  "language_info": {
   "name": "python",
   "version": "3.9.11"
  },
  "orig_nbformat": 4
 },
 "nbformat": 4,
 "nbformat_minor": 2
}
